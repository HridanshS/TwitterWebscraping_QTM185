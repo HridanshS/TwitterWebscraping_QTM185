{
 "cells": [
  {
   "cell_type": "code",
   "execution_count": 1,
   "metadata": {},
   "outputs": [],
   "source": [
    "API_KEY = \"7pvH1gj0XgCUfeBgk1YiEXPpR\"\n",
    "API_SECRET = \"bBeeJNu7vD6iIooVtdeUkBDDlUNnQ5bv2QCr5BbdbbXg3w3Lve\"\n",
    "BEARER_TOKEN = \"AAAAAAAAAAAAAAAAAAAAABC%2FjQEAAAAA%2F1Ib6spZ75R9zetJd9Tg5FL47GI%3DucrshjZCEr7Gt5yMYZPqwbeeeTwFJ3FRq7YThsMPRmvAYxpLCN\"\n",
    "ACCESS_TOKEN = \"731080142576046080-gzaVMpSfclF8MmS9qqo1E7OBLcIxsd9\"\n",
    "ACCESS_TOKEN_SECRET = \"g0aTRQcdJ5beuDkCBeEfZAsl4s4eqGdsgZcyLyWGfyPF4\""
   ]
  }
 ],
 "metadata": {
  "kernelspec": {
   "display_name": "Python 3",
   "language": "python",
   "name": "python3"
  },
  "language_info": {
   "codemirror_mode": {
    "name": "ipython",
    "version": 3
   },
   "file_extension": ".py",
   "mimetype": "text/x-python",
   "name": "python",
   "nbconvert_exporter": "python",
   "pygments_lexer": "ipython3",
   "version": "3.8.5"
  }
 },
 "nbformat": 4,
 "nbformat_minor": 4
}
